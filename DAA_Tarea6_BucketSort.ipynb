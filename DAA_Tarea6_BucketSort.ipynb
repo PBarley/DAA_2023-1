{
  "nbformat": 4,
  "nbformat_minor": 0,
  "metadata": {
    "colab": {
      "provenance": [],
      "authorship_tag": "ABX9TyPeiqawQhhrjUgAJY0NAoFu",
      "include_colab_link": true
    },
    "kernelspec": {
      "name": "python3",
      "display_name": "Python 3"
    },
    "language_info": {
      "name": "python"
    }
  },
  "cells": [
    {
      "cell_type": "markdown",
      "metadata": {
        "id": "view-in-github",
        "colab_type": "text"
      },
      "source": [
        "<a href=\"https://colab.research.google.com/github/PBarley/DAA_2023-1/blob/Tarea-6/DAA_Tarea6_BucketSort.ipynb\" target=\"_parent\"><img src=\"https://colab.research.google.com/assets/colab-badge.svg\" alt=\"Open In Colab\"/></a>"
      ]
    },
    {
      "cell_type": "code",
      "source": [
        "from IPython.lib.display import join\n",
        "\n",
        "# ANÁLISIS DEL MÉTODO BUCKET SORT\n",
        "def cubeta (datos, slot):\n",
        "  x = 0          #T(n)= 1   S(n)=1\n",
        "  slots = slot   #T(n)= 1   S(n)=1\n",
        "  contador = 0   #T(n)= 1   S(n)=1\n",
        "  cubetas = []   #T(n)= 1   S(n)=1\n",
        "\n",
        "  for i in range (0,slot,1):    #T(n)= n   S(n)=1\n",
        "    cubetas .append([]) #T(n)= 1   S(n)=0  \n",
        "\n",
        "  for index in range (len(datos)):    #T(n)= 5n   S(n)=1\n",
        "    num = datos[index] // slots #T(n)= 3   S(n)=0\n",
        "    cubetas[num].append(datos[index]) #T(n)= 2   S(n)=0\n",
        "\n",
        "  for recorrido in range(len(cubetas)):    #T(n)= 2n^3 + 4n^2 + 5n   S(n)=6\n",
        "    x = seleccion(cubetas[recorrido]) #T(n)= 2n^2 + 4n + 4  S(n)=5\n",
        "    cubetas[recorrido] = x #T(n)= 1   S(n)=0\n",
        "\n",
        "  return cubetas   #T(n)= 1   S(n)=0 \n",
        "\n",
        "\"\"\"\" \n",
        "Entonces Big O es:\n",
        "  T(n)  =    5 + n + 5n + 2n^3 + 4n^2 + 5n   =    2n^3 + 4n^2 + 11n + 5\n",
        "  S(n)  =    12    = S(c)\n",
        "\"\"\"\"\n",
        "\n",
        "\n",
        "\n",
        "def seleccion(datos):\n",
        "  pivote=0 #T(n)= 1   S(n)=1\n",
        "  temp=0   #T(n)= 1   S(n)=1\n",
        "  aux=0    #T(n)= 1   S(n)=1\n",
        "  min=0    #T(n)= 1   S(n)=1\n",
        "\n",
        "\n",
        "  for pivote in range (len(datos)):    #T(n)= 4n + 2n^2   S(n)=1 \n",
        "    min=pivote #T(n)= 2   S(n)=0\n",
        "    for aux in range (pivote+1,(len(datos)),aux+1):    #T(n)= 2n   S(n)=1 \n",
        "      if datos[aux] < datos[min]: #T(n)= 1   S(n)=0\n",
        "        min=aux #T(n)= 1   S(n)=0\n",
        "  \n",
        "    temp=datos[pivote] #T(n)= 1   S(n)=0\n",
        "    datos[pivote]=datos[min] #T(n)= 1   S(n)=0\n",
        "    datos[min]=temp #T(n)= 1   S(n)=0\n",
        "\n",
        "  return datos  \n",
        "\n",
        "\n",
        "\n",
        "\n",
        "\n",
        "datos = [70,12,11,78,40,33,4,31,57,10,41,22,89,88,97,13]\n",
        "datosOrd = []\n",
        "for i in range(len(datos)):\n",
        "  print(datos[i])\n",
        "\n",
        "print(\"Datos ordenados:\")\n",
        "datosOrd=cubeta(datos,10)\n",
        "for i in range(len(datosOrd)):\n",
        "  for j in range(len(datosOrd[i])):\n",
        "    print(datosOrd[i][j])\n",
        "\n",
        "\n"
      ],
      "metadata": {
        "colab": {
          "base_uri": "https://localhost:8080/"
        },
        "id": "mq6roBE6OuNd",
        "outputId": "54925f8c-ec44-423b-aa6f-9d46de9d3ec5"
      },
      "execution_count": null,
      "outputs": [
        {
          "output_type": "stream",
          "name": "stdout",
          "text": [
            "70\n",
            "12\n",
            "11\n",
            "78\n",
            "40\n",
            "33\n",
            "4\n",
            "31\n",
            "57\n",
            "10\n",
            "41\n",
            "22\n",
            "89\n",
            "88\n",
            "97\n",
            "13\n",
            "Datos ordenados:\n",
            "4\n",
            "10\n",
            "11\n",
            "12\n",
            "13\n",
            "22\n",
            "31\n",
            "33\n",
            "40\n",
            "41\n",
            "57\n",
            "70\n",
            "78\n",
            "88\n",
            "89\n",
            "97\n"
          ]
        }
      ]
    }
  ]
}