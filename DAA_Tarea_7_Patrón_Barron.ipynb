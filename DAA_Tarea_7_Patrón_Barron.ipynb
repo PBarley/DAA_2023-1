{
  "nbformat": 4,
  "nbformat_minor": 0,
  "metadata": {
    "colab": {
      "provenance": [],
      "authorship_tag": "ABX9TyNQM4CnZJcQshfxxx/wI038",
      "include_colab_link": true
    },
    "kernelspec": {
      "name": "python3",
      "display_name": "Python 3"
    },
    "language_info": {
      "name": "python"
    }
  },
  "cells": [
    {
      "cell_type": "markdown",
      "metadata": {
        "id": "view-in-github",
        "colab_type": "text"
      },
      "source": [
        "<a href=\"https://colab.research.google.com/github/PBarley/DAA_2023-1/blob/Tarea7y8_AlgoritmosPorFuerzaBruta/DAA_Tarea_7_Patr%C3%B3n_Barron.ipynb\" target=\"_parent\"><img src=\"https://colab.research.google.com/assets/colab-badge.svg\" alt=\"Open In Colab\"/></a>"
      ]
    },
    {
      "cell_type": "markdown",
      "source": [
        "Elaborar un algoritmo por fuerza bruta que pueda encontrar un patrón dentro de una cadena.\n",
        "\n",
        "La cadena es:\n",
        "1110010001101110100011001111000110001110001110001110100011010001110001110001110001110001110001110001110001110001110001110001110001110001110001110001110001110001110001110001110001110001110001110001110001110001110001110001110001110001110001110001110001110001101000111110101010100111100011000\n",
        "\n",
        "\n",
        "Patrón a encontrar: \n",
        "**1010101**\n"
      ],
      "metadata": {
        "id": "6oYtSO3kaj26"
      }
    },
    {
      "cell_type": "code",
      "execution_count": 15,
      "metadata": {
        "id": "uFoXao22y7Ny",
        "colab": {
          "base_uri": "https://localhost:8080/"
        },
        "outputId": "1f176458-6610-4955-a5ca-c505eb21301d"
      },
      "outputs": [
        {
          "output_type": "stream",
          "name": "stdout",
          "text": [
            "1010101 = 1010101\n",
            "El patron se encuentra dentro de la cadena entre las posiciones: 266 y 273\n",
            "1010101 = 1010101\n",
            "El patron se encuentra dentro de la cadena entre las posiciones: 268 y 275\n"
          ]
        }
      ],
      "source": [
        "cadena = \"1110010001101110100011001111000110001110001110001110100011010001110001110001110001110001110001110001110001110001110001110001110001110001110001110001110001110001110001110001110001110001110001110001110001110001110001110001110001110001110001110001110001110001101000111110101010100111100011000\"\n",
        "patron = \"1010101\"\n",
        "\n",
        "inicio=0\n",
        "fin=7\n",
        "repetir = len( cadena ) - 7\n",
        "\n",
        "for n in range( repetir ):\n",
        "  subCadena = cadena[inicio:fin]\n",
        "  if subCadena == patron:\n",
        "    print(subCadena + \" = \" + patron)\n",
        "    print(\"El patron se encuentra dentro de la cadena entre las posiciones: \" + str(inicio) + \" y \" + str(fin))\n",
        "  inicio = inicio + 1\n",
        "  fin = fin + 1"
      ]
    }
  ]
}